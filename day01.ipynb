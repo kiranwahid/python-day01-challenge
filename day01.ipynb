{
  "nbformat": 4,
  "nbformat_minor": 0,
  "metadata": {
    "colab": {
      "provenance": [],
      "authorship_tag": "ABX9TyOOvPJzOUgDF2svBShKSJ0o",
      "include_colab_link": true
    },
    "kernelspec": {
      "name": "python3",
      "display_name": "Python 3"
    },
    "language_info": {
      "name": "python"
    }
  },
  "cells": [
    {
      "cell_type": "markdown",
      "metadata": {
        "id": "view-in-github",
        "colab_type": "text"
      },
      "source": [
        "<a href=\"https://colab.research.google.com/github/kiranwahid/python-day01-challenge/blob/main/day01.ipynb\" target=\"_parent\"><img src=\"https://colab.research.google.com/assets/colab-badge.svg\" alt=\"Open In Colab\"/></a>"
      ]
    },
    {
      "cell_type": "markdown",
      "source": [
        "# **Day 01 Python Challenge Print Simple Message**"
      ],
      "metadata": {
        "id": "XB3flZoChkhf"
      }
    },
    {
      "cell_type": "code",
      "execution_count": null,
      "metadata": {
        "colab": {
          "base_uri": "https://localhost:8080/"
        },
        "id": "MHeVIqoxhDGx",
        "outputId": "447f7429-eb36-43a6-ef73-05a8644556a4"
      },
      "outputs": [
        {
          "output_type": "stream",
          "name": "stdout",
          "text": [
            "\"Hello, Python Learners!🚀 Today is \n",
            "the first step the first step in our coding journey.\"\n",
            "\n",
            " Hello Kiran wahid😍, would you like to learn some Python today?\n"
          ]
        }
      ],
      "source": [
        "# here print simple message\n",
        "\n",
        "message:str = \"\"\"Hello, Python Learners!🚀 Today is\n",
        "the first step the first step in our coding journey.\"\"\"\n",
        "\n",
        "print(f'\"{message}\"')\n",
        "\n",
        "# declare variable\n",
        "my_name:str = \"Kiran wahid\"\n",
        "\n",
        "simple_message:str = f\"\\n Hello {my_name}😍, would you like to learn some Python today?\"\n",
        "print(simple_message)\n",
        "\n"
      ]
    }
  ]
}